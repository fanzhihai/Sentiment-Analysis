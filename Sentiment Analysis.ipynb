{
 "cells": [
  {
   "cell_type": "markdown",
   "metadata": {},
   "source": [
    "# 1、导入数据，研究数据特性"
   ]
  },
  {
   "cell_type": "code",
   "execution_count": 71,
   "metadata": {
    "collapsed": true
   },
   "outputs": [],
   "source": [
    "import pandas as pd\n",
    "import numpy as np\n",
    "\n",
    "# 导入评论数据集\n",
    "data = pd.read_csv('C:\\Users\\jiao.fang.jiaofang\\Desktop\\data\\comment_data\\\\test_data.csv',encoding='utf-8')\n",
    "data = data.dropna()"
   ]
  },
  {
   "cell_type": "code",
   "execution_count": 72,
   "metadata": {},
   "outputs": [
    {
     "name": "stdout",
     "output_type": "stream",
     "text": [
      "<class 'pandas.core.frame.DataFrame'>\n",
      "Int64Index: 207396 entries, 0 to 215031\n",
      "Data columns (total 9 columns):\n",
      "Id         207396 non-null int64\n",
      "已采         207396 non-null bool\n",
      "已发         207396 non-null bool\n",
      "电商平台       207396 non-null object\n",
      "品牌         207396 non-null object\n",
      "评论         207396 non-null object\n",
      "时间         207396 non-null object\n",
      "型号         207396 non-null object\n",
      "PageUrl    207396 non-null object\n",
      "dtypes: bool(2), int64(1), object(6)\n",
      "memory usage: 8.3+ MB\n",
      "None\n",
      "   Id    已采     已发 电商平台  品牌  \\\n",
      "0   1  True  False   京东  AO   \n",
      "1   2  True  False   京东  AO   \n",
      "2   3  True  False   京东  AO   \n",
      "3   4  True  False   京东  AO   \n",
      "4   5  True  False   京东  AO   \n",
      "\n",
      "                                                  评论                时间  \\\n",
      "0                                  挺好的 ，安装人员很负责 指的夸奖    2014/8/26 9:07   \n",
      "1                                   自己安装的，感觉蛮好。后续追加。  2014/10/17 14:24   \n",
      "2       \\n\\nAO史密斯（A.O.Smith） ET300J-60 电热水器 60升 还没安装  2014/11/12 13:36   \n",
      "3                               还没装，等安装之后再来吧，为装修备的货。   2014/11/16 0:04   \n",
      "4  大小刚刚好，安装收了140材料费，活接、弯头啥的。试机顺利，16度加热到30度用了6分钟左右...   2014/11/11 8:11   \n",
      "\n",
      "                                    型号  \\\n",
      "0  AO史密斯（A.O.Smith） ET300J-60 电热水器 60升   \n",
      "1  AO史密斯（A.O.Smith） ET300J-60 电热水器 60升   \n",
      "2  AO史密斯（A.O.Smith） ET300J-60 电热水器 60升   \n",
      "3  AO史密斯（A.O.Smith） ET300J-60 电热水器 60升   \n",
      "4  AO史密斯（A.O.Smith） ET300J-60 电热水器 60升   \n",
      "\n",
      "                                             PageUrl  \n",
      "0  http://s.club.jd.com/productpage/p-1008025-s-0...  \n",
      "1  http://s.club.jd.com/productpage/p-1008025-s-0...  \n",
      "2  http://s.club.jd.com/productpage/p-1008025-s-0...  \n",
      "3  http://s.club.jd.com/productpage/p-1008025-s-0...  \n",
      "4  http://s.club.jd.com/productpage/p-1008025-s-0...  \n"
     ]
    }
   ],
   "source": [
    "# 查看数据集大小、特性属性\n",
    "print(data.info())\n",
    "print(data.head())"
   ]
  },
  {
   "cell_type": "markdown",
   "metadata": {},
   "source": [
    "# 2、特性选取，将无关特征删除，只保留相关特征\n",
    "很明显，‘Id’、‘已采’、‘已发’、‘PageUrl’与情感分析无关"
   ]
  },
  {
   "cell_type": "code",
   "execution_count": 73,
   "metadata": {},
   "outputs": [],
   "source": [
    "# 特征选取\n",
    "data.drop([u'Id',u'已采',u'已发','PageUrl'],1,inplace=True)"
   ]
  },
  {
   "cell_type": "code",
   "execution_count": 74,
   "metadata": {},
   "outputs": [
    {
     "data": {
      "text/html": [
       "<div>\n",
       "<style>\n",
       "    .dataframe thead tr:only-child th {\n",
       "        text-align: right;\n",
       "    }\n",
       "\n",
       "    .dataframe thead th {\n",
       "        text-align: left;\n",
       "    }\n",
       "\n",
       "    .dataframe tbody tr th {\n",
       "        vertical-align: top;\n",
       "    }\n",
       "</style>\n",
       "<table border=\"1\" class=\"dataframe\">\n",
       "  <thead>\n",
       "    <tr style=\"text-align: right;\">\n",
       "      <th></th>\n",
       "      <th>电商平台</th>\n",
       "      <th>品牌</th>\n",
       "      <th>评论</th>\n",
       "      <th>时间</th>\n",
       "      <th>型号</th>\n",
       "    </tr>\n",
       "  </thead>\n",
       "  <tbody>\n",
       "    <tr>\n",
       "      <th>0</th>\n",
       "      <td>京东</td>\n",
       "      <td>AO</td>\n",
       "      <td>挺好的 ，安装人员很负责 指的夸奖</td>\n",
       "      <td>2014/8/26 9:07</td>\n",
       "      <td>AO史密斯（A.O.Smith） ET300J-60 电热水器 60升</td>\n",
       "    </tr>\n",
       "    <tr>\n",
       "      <th>1</th>\n",
       "      <td>京东</td>\n",
       "      <td>AO</td>\n",
       "      <td>自己安装的，感觉蛮好。后续追加。</td>\n",
       "      <td>2014/10/17 14:24</td>\n",
       "      <td>AO史密斯（A.O.Smith） ET300J-60 电热水器 60升</td>\n",
       "    </tr>\n",
       "    <tr>\n",
       "      <th>2</th>\n",
       "      <td>京东</td>\n",
       "      <td>AO</td>\n",
       "      <td>\\n\\nAO史密斯（A.O.Smith） ET300J-60 电热水器 60升 还没安装</td>\n",
       "      <td>2014/11/12 13:36</td>\n",
       "      <td>AO史密斯（A.O.Smith） ET300J-60 电热水器 60升</td>\n",
       "    </tr>\n",
       "    <tr>\n",
       "      <th>3</th>\n",
       "      <td>京东</td>\n",
       "      <td>AO</td>\n",
       "      <td>还没装，等安装之后再来吧，为装修备的货。</td>\n",
       "      <td>2014/11/16 0:04</td>\n",
       "      <td>AO史密斯（A.O.Smith） ET300J-60 电热水器 60升</td>\n",
       "    </tr>\n",
       "    <tr>\n",
       "      <th>4</th>\n",
       "      <td>京东</td>\n",
       "      <td>AO</td>\n",
       "      <td>大小刚刚好，安装收了140材料费，活接、弯头啥的。试机顺利，16度加热到30度用了6分钟左右...</td>\n",
       "      <td>2014/11/11 8:11</td>\n",
       "      <td>AO史密斯（A.O.Smith） ET300J-60 电热水器 60升</td>\n",
       "    </tr>\n",
       "  </tbody>\n",
       "</table>\n",
       "</div>"
      ],
      "text/plain": [
       "  电商平台  品牌                                                 评论  \\\n",
       "0   京东  AO                                  挺好的 ，安装人员很负责 指的夸奖   \n",
       "1   京东  AO                                   自己安装的，感觉蛮好。后续追加。   \n",
       "2   京东  AO       \\n\\nAO史密斯（A.O.Smith） ET300J-60 电热水器 60升 还没安装   \n",
       "3   京东  AO                               还没装，等安装之后再来吧，为装修备的货。   \n",
       "4   京东  AO  大小刚刚好，安装收了140材料费，活接、弯头啥的。试机顺利，16度加热到30度用了6分钟左右...   \n",
       "\n",
       "                 时间                                   型号  \n",
       "0    2014/8/26 9:07  AO史密斯（A.O.Smith） ET300J-60 电热水器 60升  \n",
       "1  2014/10/17 14:24  AO史密斯（A.O.Smith） ET300J-60 电热水器 60升  \n",
       "2  2014/11/12 13:36  AO史密斯（A.O.Smith） ET300J-60 电热水器 60升  \n",
       "3   2014/11/16 0:04  AO史密斯（A.O.Smith） ET300J-60 电热水器 60升  \n",
       "4   2014/11/11 8:11  AO史密斯（A.O.Smith） ET300J-60 电热水器 60升  "
      ]
     },
     "execution_count": 74,
     "metadata": {},
     "output_type": "execute_result"
    }
   ],
   "source": [
    "data.head()"
   ]
  },
  {
   "cell_type": "code",
   "execution_count": 75,
   "metadata": {},
   "outputs": [
    {
     "data": {
      "text/plain": [
       "京东    207396\n",
       "Name: 电商平台, dtype: int64"
      ]
     },
     "execution_count": 75,
     "metadata": {},
     "output_type": "execute_result"
    }
   ],
   "source": [
    "data[u'电商平台'].value_counts()"
   ]
  },
  {
   "cell_type": "code",
   "execution_count": 76,
   "metadata": {
    "collapsed": true
   },
   "outputs": [],
   "source": [
    "# 电商平台只有京东，对文本分析无影响，删除\n",
    "data.drop(u'电商平台',1,inplace=True)"
   ]
  },
  {
   "cell_type": "code",
   "execution_count": 77,
   "metadata": {},
   "outputs": [
    {
     "data": {
      "text/plain": [
       "海尔     83086\n",
       "美的     53701\n",
       "万和     29493\n",
       "格兰仕    26142\n",
       "AO      8346\n",
       "万家乐     6628\n",
       "Name: 品牌, dtype: int64"
      ]
     },
     "execution_count": 77,
     "metadata": {},
     "output_type": "execute_result"
    }
   ],
   "source": [
    "data[u'品牌'].value_counts()"
   ]
  },
  {
   "cell_type": "markdown",
   "metadata": {},
   "source": [
    "本数据集存在多品牌的热水器，考虑到实际意义，本案例选择海尔的热水器评价为样本进行评价"
   ]
  },
  {
   "cell_type": "code",
   "execution_count": 78,
   "metadata": {},
   "outputs": [],
   "source": [
    "# 特征选取，将无关特征删除，只保留相关特性\n",
    "data_HR = data[data[u'品牌'] == u'海尔']"
   ]
  },
  {
   "cell_type": "code",
   "execution_count": 79,
   "metadata": {},
   "outputs": [
    {
     "data": {
      "text/html": [
       "<div>\n",
       "<style>\n",
       "    .dataframe thead tr:only-child th {\n",
       "        text-align: right;\n",
       "    }\n",
       "\n",
       "    .dataframe thead th {\n",
       "        text-align: left;\n",
       "    }\n",
       "\n",
       "    .dataframe tbody tr th {\n",
       "        vertical-align: top;\n",
       "    }\n",
       "</style>\n",
       "<table border=\"1\" class=\"dataframe\">\n",
       "  <thead>\n",
       "    <tr style=\"text-align: right;\">\n",
       "      <th></th>\n",
       "      <th>品牌</th>\n",
       "      <th>评论</th>\n",
       "      <th>时间</th>\n",
       "      <th>型号</th>\n",
       "    </tr>\n",
       "  </thead>\n",
       "  <tbody>\n",
       "    <tr>\n",
       "      <th>9701</th>\n",
       "      <td>海尔</td>\n",
       "      <td>加热很快，保温很好，开启时的温度基本是关闭时得温度。很满意</td>\n",
       "      <td>2014/6/19 14:18</td>\n",
       "      <td>海尔(Haier)电热水器50升Q6</td>\n",
       "    </tr>\n",
       "    <tr>\n",
       "      <th>9702</th>\n",
       "      <td>海尔</td>\n",
       "      <td>真心的推荐，多好用的，京东还是可以相信?</td>\n",
       "      <td>2014/11/30 23:38</td>\n",
       "      <td>海尔(Haier)电热水器50升Q6</td>\n",
       "    </tr>\n",
       "    <tr>\n",
       "      <th>9703</th>\n",
       "      <td>海尔</td>\n",
       "      <td>好看安装师傅也很好非常满意</td>\n",
       "      <td>2014/12/11 10:51</td>\n",
       "      <td>海尔(Haier)电热水器50升Q6</td>\n",
       "    </tr>\n",
       "    <tr>\n",
       "      <th>9704</th>\n",
       "      <td>海尔</td>\n",
       "      <td>安装认真负责，由于用了个架子，多花了90</td>\n",
       "      <td>2014/12/10 11:33</td>\n",
       "      <td>海尔(Haier)电热水器50升Q6</td>\n",
       "    </tr>\n",
       "    <tr>\n",
       "      <th>9705</th>\n",
       "      <td>海尔</td>\n",
       "      <td>用了半个月了。优点：挺好用的，水温比较稳定。特别是烧好水关电后，保温效果不错。一家三口洗澡正...</td>\n",
       "      <td>2014/11/29 13:41</td>\n",
       "      <td>海尔(Haier)电热水器50升Q6</td>\n",
       "    </tr>\n",
       "  </tbody>\n",
       "</table>\n",
       "</div>"
      ],
      "text/plain": [
       "      品牌                                                 评论                时间  \\\n",
       "9701  海尔                      加热很快，保温很好，开启时的温度基本是关闭时得温度。很满意   2014/6/19 14:18   \n",
       "9702  海尔                               真心的推荐，多好用的，京东还是可以相信?  2014/11/30 23:38   \n",
       "9703  海尔                                      好看安装师傅也很好非常满意  2014/12/11 10:51   \n",
       "9704  海尔                               安装认真负责，由于用了个架子，多花了90  2014/12/10 11:33   \n",
       "9705  海尔  用了半个月了。优点：挺好用的，水温比较稳定。特别是烧好水关电后，保温效果不错。一家三口洗澡正...  2014/11/29 13:41   \n",
       "\n",
       "                      型号  \n",
       "9701  海尔(Haier)电热水器50升Q6  \n",
       "9702  海尔(Haier)电热水器50升Q6  \n",
       "9703  海尔(Haier)电热水器50升Q6  \n",
       "9704  海尔(Haier)电热水器50升Q6  \n",
       "9705  海尔(Haier)电热水器50升Q6  "
      ]
     },
     "execution_count": 79,
     "metadata": {},
     "output_type": "execute_result"
    }
   ],
   "source": [
    "data_HR.head()"
   ]
  },
  {
   "cell_type": "code",
   "execution_count": 80,
   "metadata": {},
   "outputs": [
    {
     "name": "stderr",
     "output_type": "stream",
     "text": [
      "D:\\Program Files\\Anaconda\\lib\\site-packages\\ipykernel_launcher.py:2: SettingWithCopyWarning: \n",
      "A value is trying to be set on a copy of a slice from a DataFrame\n",
      "\n",
      "See the caveats in the documentation: http://pandas.pydata.org/pandas-docs/stable/indexing.html#indexing-view-versus-copy\n",
      "  \n",
      "D:\\Program Files\\Anaconda\\lib\\site-packages\\ipykernel_launcher.py:3: SettingWithCopyWarning: \n",
      "A value is trying to be set on a copy of a slice from a DataFrame\n",
      "\n",
      "See the caveats in the documentation: http://pandas.pydata.org/pandas-docs/stable/indexing.html#indexing-view-versus-copy\n",
      "  This is separate from the ipykernel package so we can avoid doing imports until\n"
     ]
    }
   ],
   "source": [
    "# 不考虑时间对情感分析的影响\n",
    "data_HR.drop(u'时间',1,inplace=True)\n",
    "data_HR.drop(u'品牌',1,inplace=True)"
   ]
  },
  {
   "cell_type": "code",
   "execution_count": 81,
   "metadata": {},
   "outputs": [
    {
     "data": {
      "text/plain": [
       "海尔(Haier)电热水器50升Q6                  15142\n",
       "海尔(haier) ES50H-Q1(ZE) 50升 电热水器     12870\n",
       "海尔(Haier)双管电热水器60升Q6                 8710\n",
       "海尔(Haier)多功率电热水器40升Q6                6355\n",
       "海尔(Haier)无线遥控电热水器60升D                6295\n",
       "海尔(Haier)多功率线控电热水器50升DL              5650\n",
       "海尔(Haier)多功率遥控电热水器50升D               4403\n",
       "海尔(Haier) FCD-HX60EI(E) 60升 电热水器     4142\n",
       "海尔(Haier)2000W单功率电热水器40升C            2791\n",
       "海尔(Haier)2000W单管电热水器50升C             2610\n",
       "海尔(Haier)60升半胆整胆加热 遥控电热水器G           2418\n",
       "海尔(Haier) FCD-H60H(E) 60升 电热水器       2301\n",
       "海尔(Haier)2000W电热水器60升C               1974\n",
       "海尔(haier) ES60H-Z3(QE) 60升 电热水器      1845\n",
       "海尔(haier) ES80H-Q1(ZE) 80升 电热水器      1634\n",
       "海尔(Haier)80升分层加热 遥控电热水器G             1424\n",
       "海尔(Haier) ES50H-Z3(QE) 50升 电热水器      1327\n",
       "海尔(Haier)50升分层加热 遥控电热水器G             1165\n",
       "????(Haier)????????50??Q6              30\n",
       "Name: 型号, dtype: int64"
      ]
     },
     "execution_count": 81,
     "metadata": {},
     "output_type": "execute_result"
    }
   ],
   "source": [
    "data_HR[u'型号'].value_counts()"
   ]
  },
  {
   "cell_type": "code",
   "execution_count": 82,
   "metadata": {},
   "outputs": [
    {
     "name": "stderr",
     "output_type": "stream",
     "text": [
      "D:\\Program Files\\Anaconda\\lib\\site-packages\\ipykernel_launcher.py:1: UserWarning: Boolean Series key will be reindexed to match DataFrame index.\n",
      "  \"\"\"Entry point for launching an IPython kernel.\n"
     ]
    },
    {
     "data": {
      "text/html": [
       "<div>\n",
       "<style>\n",
       "    .dataframe thead tr:only-child th {\n",
       "        text-align: right;\n",
       "    }\n",
       "\n",
       "    .dataframe thead th {\n",
       "        text-align: left;\n",
       "    }\n",
       "\n",
       "    .dataframe tbody tr th {\n",
       "        vertical-align: top;\n",
       "    }\n",
       "</style>\n",
       "<table border=\"1\" class=\"dataframe\">\n",
       "  <thead>\n",
       "    <tr style=\"text-align: right;\">\n",
       "      <th></th>\n",
       "      <th>评论</th>\n",
       "      <th>型号</th>\n",
       "    </tr>\n",
       "  </thead>\n",
       "  <tbody>\n",
       "    <tr>\n",
       "      <th>10230</th>\n",
       "      <td>??????????????????????</td>\n",
       "      <td>????(Haier)????????50??Q6</td>\n",
       "    </tr>\n",
       "    <tr>\n",
       "      <th>10285</th>\n",
       "      <td>????   ????????</td>\n",
       "      <td>????(Haier)????????50??Q6</td>\n",
       "    </tr>\n",
       "    <tr>\n",
       "      <th>10289</th>\n",
       "      <td>????(haier) ES50H-Q1(ZE) 50?? ????????http://i...</td>\n",
       "      <td>????(Haier)????????50??Q6</td>\n",
       "    </tr>\n",
       "    <tr>\n",
       "      <th>22905</th>\n",
       "      <td>??????????????????????????????????????????????...</td>\n",
       "      <td>????(Haier)????????50??Q6</td>\n",
       "    </tr>\n",
       "    <tr>\n",
       "      <th>22906</th>\n",
       "      <td>??????????????????????????</td>\n",
       "      <td>????(Haier)????????50??Q6</td>\n",
       "    </tr>\n",
       "    <tr>\n",
       "      <th>22907</th>\n",
       "      <td>??????????????????????????????????????????????...</td>\n",
       "      <td>????(Haier)????????50??Q6</td>\n",
       "    </tr>\n",
       "    <tr>\n",
       "      <th>22908</th>\n",
       "      <td>????????????????????????????????</td>\n",
       "      <td>????(Haier)????????50??Q6</td>\n",
       "    </tr>\n",
       "    <tr>\n",
       "      <th>22909</th>\n",
       "      <td>???????????????? ????????</td>\n",
       "      <td>????(Haier)????????50??Q6</td>\n",
       "    </tr>\n",
       "    <tr>\n",
       "      <th>22910</th>\n",
       "      <td>????????????????????????????</td>\n",
       "      <td>????(Haier)????????50??Q6</td>\n",
       "    </tr>\n",
       "    <tr>\n",
       "      <th>22911</th>\n",
       "      <td>????????????????????????????</td>\n",
       "      <td>????(Haier)????????50??Q6</td>\n",
       "    </tr>\n",
       "    <tr>\n",
       "      <th>22912</th>\n",
       "      <td>??????????????????????????????????????????????...</td>\n",
       "      <td>????(Haier)????????50??Q6</td>\n",
       "    </tr>\n",
       "    <tr>\n",
       "      <th>22913</th>\n",
       "      <td>????????????</td>\n",
       "      <td>????(Haier)????????50??Q6</td>\n",
       "    </tr>\n",
       "    <tr>\n",
       "      <th>23364</th>\n",
       "      <td>????????????????????</td>\n",
       "      <td>????(Haier)????????50??Q6</td>\n",
       "    </tr>\n",
       "    <tr>\n",
       "      <th>23365</th>\n",
       "      <td>??????????????????????????????????????????????...</td>\n",
       "      <td>????(Haier)????????50??Q6</td>\n",
       "    </tr>\n",
       "    <tr>\n",
       "      <th>23366</th>\n",
       "      <td>??????????????????????????????</td>\n",
       "      <td>????(Haier)????????50??Q6</td>\n",
       "    </tr>\n",
       "    <tr>\n",
       "      <th>23368</th>\n",
       "      <td>????????????????????????????</td>\n",
       "      <td>????(Haier)????????50??Q6</td>\n",
       "    </tr>\n",
       "    <tr>\n",
       "      <th>23370</th>\n",
       "      <td>????????????????????????????</td>\n",
       "      <td>????(Haier)????????50??Q6</td>\n",
       "    </tr>\n",
       "    <tr>\n",
       "      <th>23371</th>\n",
       "      <td>??????????????????????????????????????????????...</td>\n",
       "      <td>????(Haier)????????50??Q6</td>\n",
       "    </tr>\n",
       "    <tr>\n",
       "      <th>23373</th>\n",
       "      <td>??????????????????3-4?????????????????????????...</td>\n",
       "      <td>????(Haier)????????50??Q6</td>\n",
       "    </tr>\n",
       "    <tr>\n",
       "      <th>23375</th>\n",
       "      <td>??????????????????????</td>\n",
       "      <td>????(Haier)????????50??Q6</td>\n",
       "    </tr>\n",
       "    <tr>\n",
       "      <th>23376</th>\n",
       "      <td>??????????????????????????????????????????????...</td>\n",
       "      <td>????(Haier)????????50??Q6</td>\n",
       "    </tr>\n",
       "    <tr>\n",
       "      <th>23481</th>\n",
       "      <td>????????????????????????????????????150???????...</td>\n",
       "      <td>????(Haier)????????50??Q6</td>\n",
       "    </tr>\n",
       "    <tr>\n",
       "      <th>23482</th>\n",
       "      <td>??????????????????????????????????????????????...</td>\n",
       "      <td>????(Haier)????????50??Q6</td>\n",
       "    </tr>\n",
       "    <tr>\n",
       "      <th>23483</th>\n",
       "      <td>??????,????????????!</td>\n",
       "      <td>????(Haier)????????50??Q6</td>\n",
       "    </tr>\n",
       "    <tr>\n",
       "      <th>23484</th>\n",
       "      <td>??????????????????????????\\n</td>\n",
       "      <td>????(Haier)????????50??Q6</td>\n",
       "    </tr>\n",
       "    <tr>\n",
       "      <th>23485</th>\n",
       "      <td>????????????????????</td>\n",
       "      <td>????(Haier)????????50??Q6</td>\n",
       "    </tr>\n",
       "    <tr>\n",
       "      <th>23486</th>\n",
       "      <td>????????????????????????????200??????300??????...</td>\n",
       "      <td>????(Haier)????????50??Q6</td>\n",
       "    </tr>\n",
       "    <tr>\n",
       "      <th>23487</th>\n",
       "      <td>????????????????????</td>\n",
       "      <td>????(Haier)????????50??Q6</td>\n",
       "    </tr>\n",
       "    <tr>\n",
       "      <th>23488</th>\n",
       "      <td>??????????????????????????????????</td>\n",
       "      <td>????(Haier)????????50??Q6</td>\n",
       "    </tr>\n",
       "    <tr>\n",
       "      <th>23489</th>\n",
       "      <td>????????bang??????????????????????</td>\n",
       "      <td>????(Haier)????????50??Q6</td>\n",
       "    </tr>\n",
       "  </tbody>\n",
       "</table>\n",
       "</div>"
      ],
      "text/plain": [
       "                                                      评论  \\\n",
       "10230                             ??????????????????????   \n",
       "10285                                    ????   ????????   \n",
       "10289  ????(haier) ES50H-Q1(ZE) 50?? ????????http://i...   \n",
       "22905  ??????????????????????????????????????????????...   \n",
       "22906                         ??????????????????????????   \n",
       "22907  ??????????????????????????????????????????????...   \n",
       "22908                   ????????????????????????????????   \n",
       "22909                          ???????????????? ????????   \n",
       "22910                       ????????????????????????????   \n",
       "22911                       ????????????????????????????   \n",
       "22912  ??????????????????????????????????????????????...   \n",
       "22913                                       ????????????   \n",
       "23364                               ????????????????????   \n",
       "23365  ??????????????????????????????????????????????...   \n",
       "23366                     ??????????????????????????????   \n",
       "23368                       ????????????????????????????   \n",
       "23370                       ????????????????????????????   \n",
       "23371  ??????????????????????????????????????????????...   \n",
       "23373  ??????????????????3-4?????????????????????????...   \n",
       "23375                             ??????????????????????   \n",
       "23376  ??????????????????????????????????????????????...   \n",
       "23481  ????????????????????????????????????150???????...   \n",
       "23482  ??????????????????????????????????????????????...   \n",
       "23483                               ??????,????????????!   \n",
       "23484                       ??????????????????????????\\n   \n",
       "23485                               ????????????????????   \n",
       "23486  ????????????????????????????200??????300??????...   \n",
       "23487                               ????????????????????   \n",
       "23488                 ??????????????????????????????????   \n",
       "23489                 ????????bang??????????????????????   \n",
       "\n",
       "                              型号  \n",
       "10230  ????(Haier)????????50??Q6  \n",
       "10285  ????(Haier)????????50??Q6  \n",
       "10289  ????(Haier)????????50??Q6  \n",
       "22905  ????(Haier)????????50??Q6  \n",
       "22906  ????(Haier)????????50??Q6  \n",
       "22907  ????(Haier)????????50??Q6  \n",
       "22908  ????(Haier)????????50??Q6  \n",
       "22909  ????(Haier)????????50??Q6  \n",
       "22910  ????(Haier)????????50??Q6  \n",
       "22911  ????(Haier)????????50??Q6  \n",
       "22912  ????(Haier)????????50??Q6  \n",
       "22913  ????(Haier)????????50??Q6  \n",
       "23364  ????(Haier)????????50??Q6  \n",
       "23365  ????(Haier)????????50??Q6  \n",
       "23366  ????(Haier)????????50??Q6  \n",
       "23368  ????(Haier)????????50??Q6  \n",
       "23370  ????(Haier)????????50??Q6  \n",
       "23371  ????(Haier)????????50??Q6  \n",
       "23373  ????(Haier)????????50??Q6  \n",
       "23375  ????(Haier)????????50??Q6  \n",
       "23376  ????(Haier)????????50??Q6  \n",
       "23481  ????(Haier)????????50??Q6  \n",
       "23482  ????(Haier)????????50??Q6  \n",
       "23483  ????(Haier)????????50??Q6  \n",
       "23484  ????(Haier)????????50??Q6  \n",
       "23485  ????(Haier)????????50??Q6  \n",
       "23486  ????(Haier)????????50??Q6  \n",
       "23487  ????(Haier)????????50??Q6  \n",
       "23488  ????(Haier)????????50??Q6  \n",
       "23489  ????(Haier)????????50??Q6  "
      ]
     },
     "execution_count": 82,
     "metadata": {},
     "output_type": "execute_result"
    }
   ],
   "source": [
    "data_HR[data[u'型号'] == u'????(Haier)????????50??Q6']"
   ]
  },
  {
   "cell_type": "code",
   "execution_count": 83,
   "metadata": {},
   "outputs": [
    {
     "name": "stderr",
     "output_type": "stream",
     "text": [
      "D:\\Program Files\\Anaconda\\lib\\site-packages\\ipykernel_launcher.py:2: UserWarning: Boolean Series key will be reindexed to match DataFrame index.\n",
      "  \n"
     ]
    }
   ],
   "source": [
    "# 型号为“????(Haier)????????50??Q6”的热水器评论无效，将该数据删除\n",
    "data_HR = data_HR[data[u'型号'] != u'????(Haier)????????50??Q6']"
   ]
  },
  {
   "cell_type": "code",
   "execution_count": 84,
   "metadata": {},
   "outputs": [
    {
     "data": {
      "text/plain": [
       "暂时还没发现缺点哦！                                                                                    178\n",
       "非常满意，五星                                                                                       135\n",
       "长度在5-200个字之间 填写您对此商品的使用心得，例如该商品或某功能为您带来的帮助，或使用过程中遇到的问题等。最多可输入200字                              75\n",
       "不错不错不错不错不错                                                                                     56\n",
       "好好好好好                                                                                          39\n",
       "还没有使用                                                                                          37\n",
       "不错不错不错不错不错不错                                                                                   35\n",
       "东西还不错                                                                                          33\n",
       "性价比高，送货给力，京东还是那么好                                                                              32\n",
       "不错不错不错                                                                                         31\n",
       "非常满意非常满意                                                                                       31\n",
       "性价比很高                                                                                          28\n",
       "买家电上京东，活动多多奖品多多\\n海尔产品质量过硬\\n买海尔就选日日顺物流服务，日日顺物流服务态度好，送货快，服务专业，很省心\\n上京东购物就是多快好省！\\n                24\n",
       "好好好好好好好好好好                                                                                     24\n",
       "大品牌，值得信赖                                                                                       22\n",
       "东西不错，好用，送货很快，满意                                                                                22\n",
       "还没有安装                                                                                          22\n",
       "很好很好很好                                                                                         21\n",
       "很好很好很好很好很好很好                                                                                   20\n",
       "好好好好好好好好好好好好                                                                                   20\n",
       "东西不错。                                                                                          19\n",
       "海尔(haier) ES60H-Q1(ZE) 60升 电热水器                                                                18\n",
       "很好很强大                                                                                          18\n",
       "海尔(haier) ES50H-Q1(ZE) 50升 电热水器                                                                17\n",
       "海尔（Haier）EC6002-D 60升遥控电热水器                                                                    17\n",
       "性价比不错                                                                                          17\n",
       "非常满意非常满意非常满意                                                                                   16\n",
       "买家电上京东，很方便，性价比高\\n海尔产品质量过硬,挺好的东西\\n日日顺物流服务态度好，送货快，很省心\\n上京东购物就是多快好省！支持京东做大做强！购物上京东愉快轻松一站搞定！\\n     16\n",
       "海尔值得信赖                                                                                         16\n",
       "东西还可以                                                                                          16\n",
       "                                                                                             ... \n",
       "货运先前不给力  商品个别地方稍微有点脏样 总体不错  海尔售后服务很好                                                            1\n",
       "还行，就是安装的线控盒粘不住，第二天就掉下来了。非得打钉子挂墙上才行。                                                             1\n",
       "热水器很好，用了一段时间后没有发现不便之处，非常便捷省心。。。安装和服务都相当到位                                                       1\n",
       "口碑品牌，实用的机型                                                                                      1\n",
       "还没装上，等装修好了再装                                                                                    1\n",
       "用着还行！但图片没有显示有线遥控感觉被欺骗了                                                                          1\n",
       "第一次在京东购买商品，很满意的一次购物。老公说服务非常好，不愧是海尔，京东送货同样很赞，又买了冰箱和洗衣机，以后的家电都会在京东选购了                             1\n",
       "性能佳 水温恒温效果不错 安装师傅不错 收费合理                                                                        1\n",
       "非常不错的，送货和安装都是海尔的师傅。态度挺好，热水器安好了，还没用上。                                                            1\n",
       "还可以，安装师傅挺热情，海尔售后服务就是好.                                                                          1\n",
       "很漂亮 刚刚安装 还没试水                                                                                   1\n",
       "虽然说是冬天使用 但是加热速度真是非常的慢 保温效果还可以 插着电一晚上降低10度                                                       1\n",
       "发货快，海尔的专业售后安装                                                                                   1\n",
       "产品还不错，价格比较公道                                                                                    1\n",
       "特意用过后才来评价的，相当满意！终于可以舒舒服服冲个凉啦！                                                                   1\n",
       "不错。安装师父也很负责                                                                                     1\n",
       "很好还有遥控器 很上档次                                                                                    1\n",
       "价格便宜量也组，安装的师傅很好                                                                                 1\n",
       "不错！家里买了3台了！                                                                                     1\n",
       "电热水器质量不错，开关不太人性化，安装费用高，都要用他家推荐的材料                                                               1\n",
       "使用很稳定，操作很简单。                                                                                    1\n",
       "这个东西自己就能安（冲击钻+锤子），我爸和我不到一个小时就安上了。就是我家安管道麻烦点，我们费了点劲。                                             1\n",
       "海尔电热水器中国大品牌，相信海尔相信京东，就这么简单。安装好了一家3口真好用，第2天早上还能刷牙洗脸。                                             1\n",
       "主要是员工用，60升*5应该差不多了                                                                              1\n",
       "还不错，没有另外收费(^_^)                                                                                 1\n",
       "给单位买的，解决员工洗澡，目前才用，表现还好！国货加油！缺德地方，安装时配件超级贵！假冒安装免费，其实全从零配件中赚走了。鄙视！                                1\n",
       "用着很好，很方便，就是发票催了好几次才收到，还收了三百多的安装材料费。                                                             1\n",
       "配送安装速度很快，服务也很好                                                                                  1\n",
       "出水效率高加热速度快水温稳定                                                                                  1\n",
       "已经安装过了 收费还算合理 120块 安装师傅态度很好 还没使用                                                                1\n",
       "Name: 评论, Length: 64939, dtype: int64"
      ]
     },
     "execution_count": 84,
     "metadata": {},
     "output_type": "execute_result"
    }
   ],
   "source": [
    "data_HR[u'评论'].value_counts()"
   ]
  },
  {
   "cell_type": "markdown",
   "metadata": {},
   "source": [
    "## 对评论内容进行处理\n",
    "   ·用户直接复制粘贴别人的评价<br>\n",
    "   ·系统默认的评价<br>\n",
    "   ·重复词<br>\n",
    "   ·短句  <br>"
   ]
  },
  {
   "cell_type": "code",
   "execution_count": 115,
   "metadata": {},
   "outputs": [],
   "source": [
    "# 文件去重\n",
    "data1= pd.DataFrame(data_HR[u'评论'].unique())"
   ]
  },
  {
   "cell_type": "code",
   "execution_count": 116,
   "metadata": {},
   "outputs": [],
   "source": [
    "#重复词\n",
    "def cutword(strs,reverse=False):\n",
    "        s1=[]\n",
    "        s2=[]\n",
    "        s=[]\n",
    "        if reverse :\n",
    "            strs=strs[::-1]\n",
    "        s1.append(strs[0])\n",
    "        for i in strs[1:]:\n",
    "            if i==s1[0] :\n",
    "                if len(s2)==0:\n",
    "                    s2.append(i)\n",
    "                else :\n",
    "                    if s1==s2:\n",
    "                        s2=[]\n",
    "                        s2.append(i)\n",
    "                    else:\n",
    "                        s=s+s1+s2\n",
    "                        s1=[]\n",
    "                        s2=[]\n",
    "                        s1.append(i)\n",
    "            else :\n",
    "                if s1==s2 and len(s1)>=2 and len(s2)>=2:\n",
    "                    s=s+s1\n",
    "                    s1=[]\n",
    "                    s2=[]\n",
    "                    s1.append(i)\n",
    "                else:\n",
    "                    if len(s2)==0:\n",
    "                        s1.append(i)\n",
    "                    else :\n",
    "                        s2.append(i)\n",
    "        if s1==s2:\n",
    "            s=s+s1\n",
    "        else:\n",
    "            s=s+s1+s2\n",
    "        if reverse :\n",
    "            return ''.join(s[::-1])\n",
    "        else:\n",
    "            return ''.join(s)"
   ]
  },
  {
   "cell_type": "code",
   "execution_count": 117,
   "metadata": {
    "collapsed": true
   },
   "outputs": [],
   "source": [
    "data2 = data1.iloc[:,0].apply(cutword)         \n",
    "data2 = data2.apply(cutword,reverse=True)"
   ]
  },
  {
   "cell_type": "code",
   "execution_count": 119,
   "metadata": {},
   "outputs": [
    {
     "name": "stdout",
     "output_type": "stream",
     "text": [
      "挺好的\n",
      "很不错\n",
      "还没用\n",
      "不错\n",
      "0\n",
      "好\n",
      "**\n",
      "实用\n",
      "还好\n",
      "挺好\n",
      "满意\n",
      "在用\n",
      "加热快\n",
      "很好\n",
      "正品\n",
      "出水快\n",
      "hao\n",
      "很好。\n",
      "yes\n",
      "还可以\n",
      "***\n",
      "ok\n",
      "给力\n",
      "一般\n",
      "很好用\n",
      "还行\n",
      "好东西\n",
      "还不错\n",
      "好评！\n",
      "还行吧\n",
      "可以\n",
      "加热慢\n",
      "送货快\n",
      "支持\n",
      "..\n",
      "OK\n",
      "*\n",
      "*买入\n",
      ".\n",
      "好用\n"
     ]
    }
   ],
   "source": [
    "# 短句\n",
    "for i in range(len(data_HR_cleared)):\n",
    "    if len(data_HR_cleared[0][i]) <= 3:\n",
    "        print data_HR_cleared[0][i]\n",
    "data_cleared=data2[data2.apply(len)> 3]"
   ]
  },
  {
   "cell_type": "markdown",
   "metadata": {},
   "source": [
    "# 构建模型\n",
    "## 情感分析"
   ]
  },
  {
   "cell_type": "code",
   "execution_count": null,
   "metadata": {
    "collapsed": true
   },
   "outputs": [],
   "source": [
    "from snownlp import sentiment\n",
    "sentiment.train('')"
   ]
  },
  {
   "cell_type": "code",
   "execution_count": 120,
   "metadata": {},
   "outputs": [],
   "source": [
    "from snownlp import SnowNLP,sentiment\n",
    "coms = []\n",
    "coms = data_cleared.apply(lambda x: SnowNLP(x).sentiments)\n",
    "data1 = data_cleared[coms>=0.5]\n",
    "data2 = data_cleared[coms<0.5]"
   ]
  },
  {
   "cell_type": "code",
   "execution_count": 136,
   "metadata": {},
   "outputs": [
    {
     "data": {
      "text/plain": [
       "0        5.809753e-01\n",
       "1        8.753611e-01\n",
       "2        6.191873e-01\n",
       "3        1.044147e-01\n",
       "4        7.466136e-01\n",
       "5        5.000000e-01\n",
       "6        8.857705e-01\n",
       "7        9.754942e-01\n",
       "8        9.979369e-01\n",
       "9        9.689418e-01\n",
       "10       9.783387e-01\n",
       "11       9.731277e-01\n",
       "12       9.873021e-01\n",
       "13       0.000000e+00\n",
       "14       9.556326e-01\n",
       "15       9.867826e-01\n",
       "16       8.486949e-01\n",
       "17       1.907401e-01\n",
       "18       1.802300e-01\n",
       "19       6.212260e-01\n",
       "20       1.660641e-01\n",
       "21       6.793212e-02\n",
       "22       8.879908e-01\n",
       "23       9.233585e-01\n",
       "24       9.051833e-01\n",
       "26       9.990620e-01\n",
       "27       8.400191e-01\n",
       "28       9.315546e-01\n",
       "29       8.951409e-01\n",
       "30       9.983137e-01\n",
       "             ...     \n",
       "64909    7.496666e-03\n",
       "64910    1.766681e-01\n",
       "64911    6.617867e-05\n",
       "64912    0.000000e+00\n",
       "64913    4.977138e-01\n",
       "64914    9.058682e-01\n",
       "64915    3.737219e-01\n",
       "64916    8.641705e-01\n",
       "64917    6.699770e-01\n",
       "64918    8.719328e-01\n",
       "64919    1.485395e-04\n",
       "64920    9.198702e-01\n",
       "64921    8.881784e-16\n",
       "64922    5.127830e-01\n",
       "64923    3.320923e-01\n",
       "64924    1.164747e-02\n",
       "64925    6.778518e-01\n",
       "64926    9.873780e-04\n",
       "64927    9.973021e-01\n",
       "64928    4.175741e-01\n",
       "64929    9.466952e-01\n",
       "64930    2.489787e-01\n",
       "64931    9.129587e-01\n",
       "64932    1.186277e-07\n",
       "64933    9.907017e-01\n",
       "64934    2.266619e-01\n",
       "64935    4.224358e-02\n",
       "64936    9.917109e-01\n",
       "64937    7.301515e-04\n",
       "64938    1.290686e-02\n",
       "Name: 0, Length: 64360, dtype: float64"
      ]
     },
     "execution_count": 136,
     "metadata": {},
     "output_type": "execute_result"
    }
   ],
   "source": [
    "coms"
   ]
  },
  {
   "cell_type": "markdown",
   "metadata": {},
   "source": [
    "## 分词"
   ]
  },
  {
   "cell_type": "code",
   "execution_count": 121,
   "metadata": {},
   "outputs": [
    {
     "name": "stderr",
     "output_type": "stream",
     "text": [
      "Building prefix dict from the default dictionary ...\n",
      "Loading model from cache c:\\users\\jiaofa~1.jia\\appdata\\local\\temp\\jieba.cache\n",
      "Loading model cost 1.292 seconds.\n",
      "Prefix dict has been built succesfully.\n"
     ]
    }
   ],
   "source": [
    "import jieba\n",
    "\n",
    "wordcut = lambda s: ','.join(jieba.cut(s))\n",
    "data1 = data1.apply(wordcut) \n",
    "data2 = data2.apply(wordcut)"
   ]
  },
  {
   "cell_type": "markdown",
   "metadata": {},
   "source": [
    "## 去除停用词"
   ]
  },
  {
   "cell_type": "code",
   "execution_count": 123,
   "metadata": {},
   "outputs": [
    {
     "name": "stderr",
     "output_type": "stream",
     "text": [
      "D:\\Program Files\\Anaconda\\lib\\site-packages\\ipykernel_launcher.py:2: ParserWarning: Falling back to the 'python' engine because the 'c' engine does not support regex separators (separators > 1 char and different from '\\s+' are interpreted as regex); you can avoid this warning by specifying engine='python'.\n",
      "  \n"
     ]
    }
   ],
   "source": [
    "stopword = pd.read_csv('C:\\Users\\jiao.fang.jiaofang\\Desktop\\data\\comment_data\\stoplist.txt',\n",
    "                       encoding='utf-8',sep='jj')"
   ]
  },
  {
   "cell_type": "code",
   "execution_count": 127,
   "metadata": {},
   "outputs": [],
   "source": [
    "#stopword = [' ', ''] + list(stopword[0]) #Pandas自动过滤了空格符，这里手动添加\n",
    "\n",
    "pos = pd.DataFrame(data1[:5000])\n",
    "neg = pd.DataFrame(data2[:5000])\n",
    "\n",
    "neg[1] = neg[0].apply(lambda s: s.split(' ')) #定义一个分割函数，然后用apply广播\n",
    "neg[2] = neg[1].apply(lambda x: [i for i in x if i.encode('utf-8') not in stopword]) #逐词判断是否停用词，思路同上\n",
    "pos[1] = pos[0].apply(lambda s: s.split(' '))\n",
    "pos[2] = pos[1].apply(lambda x: [i for i in x if i.encode('utf-8') not in stopword])"
   ]
  },
  {
   "cell_type": "markdown",
   "metadata": {},
   "source": [
    "## LDA主题分析"
   ]
  },
  {
   "cell_type": "code",
   "execution_count": 131,
   "metadata": {},
   "outputs": [],
   "source": [
    "from gensim import corpora, models"
   ]
  },
  {
   "cell_type": "code",
   "execution_count": 132,
   "metadata": {},
   "outputs": [
    {
     "name": "stdout",
     "output_type": "stream",
     "text": [
      "topic 0\n",
      "0.114*\",\" + 0.008*\",50,升,\" + 0.008*\",ES50H,-,Q1,(,ZE,),\" + 0.006*\"海尔,(,haier,),\" + 0.002*\"还,没用,\" + 0.002*\",不错\" + 0.002*\"海尔,\" + 0.002*\",大,品牌,\" + 0.001*\"海尔,（,Haier,）,\" + 0.001*\"还,不错,\"\n",
      "topic 1\n",
      "0.002*\",电热水器,\" + 0.001*\",60,升,\" + 0.001*\",\" + 0.001*\"海尔,(,Haier,),\" + 0.001*\",加热,快\" + 0.001*\",50,升,\" + 0.001*\",希望,好用\" + 0.001*\"very,\" + 0.001*\",good,\" + 0.001*\"加热,速度,快\"\n",
      "topic 2\n",
      "0.001*\"还,没,安装,\" + 0.001*\"热水器,很,好,\" + 0.001*\",海尔,\" + 0.001*\",\" + 0.001*\",加热,快,\" + 0.001*\"很,好,用,\" + 0.001*\",很,好,\" + 0.001*\",啊\" + 0.001*\"刚用,\" + 0.001*\"按时,送到,\"\n"
     ]
    }
   ],
   "source": [
    "# 负面主题分析\n",
    "neg_dict = corpora.Dictionary(neg[2]) #建立词典\n",
    "neg_corpus = [neg_dict.doc2bow(i) for i in neg[2]] #建立语料库\n",
    "neg_lda = models.LdaModel(neg_corpus, num_topics = 3, id2word = neg_dict) #LDA模型训练\n",
    "for i in range(3):\n",
    "    print 'topic',i\n",
    "    print neg_lda.print_topic(i) #输出每个主题"
   ]
  },
  {
   "cell_type": "code",
   "execution_count": 133,
   "metadata": {},
   "outputs": [
    {
     "name": "stdout",
     "output_type": "stream",
     "text": [
      "topic 0\n",
      "0.004*\"东西,不错,\" + 0.003*\",挺,好,的,\" + 0.003*\",\" + 0.002*\",大,品牌,\" + 0.002*\",性价比,高\" + 0.002*\"挺,好,的,\" + 0.002*\"很,好,。,。\" + 0.002*\"价格便宜,\" + 0.001*\"还,可以,。,。\" + 0.001*\"很,好,用,\"\n",
      "topic 1\n",
      "0.006*\"不错,\" + 0.005*\"大,品牌,\" + 0.003*\"很,好,\" + 0.003*\"很,不错,\" + 0.003*\",很,好\" + 0.003*\",\" + 0.002*\"挺,好,的,。,。\" + 0.001*\",东西,不错,\" + 0.001*\",很,满意\" + 0.001*\",很,实用,\"\n",
      "topic 2\n",
      "0.060*\",\" + 0.001*\"好用,\" + 0.001*\",送货,快,\" + 0.001*\",值得,购买\" + 0.001*\"帮别人,买,的,\" + 0.001*\"还,行,\" + 0.001*\",不错,\" + 0.001*\"不错,\" + 0.001*\"不错,。,。\" + 0.001*\"送货,快,\"\n"
     ]
    }
   ],
   "source": [
    "# 正面主题分析\n",
    "pos_dict = corpora.Dictionary(pos[2])\n",
    "pos_corpus = [pos_dict.doc2bow(i) for i in pos[2]]\n",
    "pos_lda = models.LdaModel(pos_corpus, num_topics = 3, id2word = pos_dict)\n",
    "for i in range(3):\n",
    "    print 'topic',i\n",
    "    print pos_lda.print_topic(i) #输出每个主题"
   ]
  },
  {
   "cell_type": "code",
   "execution_count": null,
   "metadata": {
    "collapsed": true
   },
   "outputs": [],
   "source": []
  }
 ],
 "metadata": {
  "kernelspec": {
   "display_name": "Python 2",
   "language": "python",
   "name": "python2"
  },
  "language_info": {
   "codemirror_mode": {
    "name": "ipython",
    "version": 2
   },
   "file_extension": ".py",
   "mimetype": "text/x-python",
   "name": "python",
   "nbconvert_exporter": "python",
   "pygments_lexer": "ipython2",
   "version": "2.7.14"
  }
 },
 "nbformat": 4,
 "nbformat_minor": 2
}
